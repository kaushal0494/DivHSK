{
  "nbformat": 4,
  "nbformat_minor": 0,
  "metadata": {
    "colab": {
      "name": "SBERT_Add_Similarity_Score_for_similar_headlines.ipynb",
      "provenance": [],
      "collapsed_sections": []
    },
    "kernelspec": {
      "name": "python3",
      "display_name": "Python 3"
    },
    "language_info": {
      "name": "python"
    },
    "widgets": {
      "application/vnd.jupyter.widget-state+json": {
        "50f17466a7824961b59657378f3befaf": {
          "model_module": "@jupyter-widgets/controls",
          "model_name": "HBoxModel",
          "state": {
            "_view_name": "HBoxView",
            "_dom_classes": [],
            "_model_name": "HBoxModel",
            "_view_module": "@jupyter-widgets/controls",
            "_model_module_version": "1.5.0",
            "_view_count": null,
            "_view_module_version": "1.5.0",
            "box_style": "",
            "layout": "IPY_MODEL_551009505d7748e382205be90e69d3b7",
            "_model_module": "@jupyter-widgets/controls",
            "children": [
              "IPY_MODEL_ad085847cb6c45adb9149a49d0d3b4ed",
              "IPY_MODEL_b11e554833544e35ad3e83dc3c4633ea"
            ]
          },
          "model_module_version": "1.5.0"
        },
        "551009505d7748e382205be90e69d3b7": {
          "model_module": "@jupyter-widgets/base",
          "model_name": "LayoutModel",
          "state": {
            "_view_name": "LayoutView",
            "grid_template_rows": null,
            "right": null,
            "justify_content": null,
            "_view_module": "@jupyter-widgets/base",
            "overflow": null,
            "_model_module_version": "1.2.0",
            "_view_count": null,
            "flex_flow": null,
            "width": null,
            "min_width": null,
            "border": null,
            "align_items": null,
            "bottom": null,
            "_model_module": "@jupyter-widgets/base",
            "top": null,
            "grid_column": null,
            "overflow_y": null,
            "overflow_x": null,
            "grid_auto_flow": null,
            "grid_area": null,
            "grid_template_columns": null,
            "flex": null,
            "_model_name": "LayoutModel",
            "justify_items": null,
            "grid_row": null,
            "max_height": null,
            "align_content": null,
            "visibility": null,
            "align_self": null,
            "height": null,
            "min_height": null,
            "padding": null,
            "grid_auto_rows": null,
            "grid_gap": null,
            "max_width": null,
            "order": null,
            "_view_module_version": "1.2.0",
            "grid_template_areas": null,
            "object_position": null,
            "object_fit": null,
            "grid_auto_columns": null,
            "margin": null,
            "display": null,
            "left": null
          },
          "model_module_version": "1.2.0"
        },
        "ad085847cb6c45adb9149a49d0d3b4ed": {
          "model_module": "@jupyter-widgets/controls",
          "model_name": "FloatProgressModel",
          "state": {
            "_view_name": "ProgressView",
            "style": "IPY_MODEL_6429316de4b642d58bdd21f14c8b29c7",
            "_dom_classes": [],
            "description": "100%",
            "_model_name": "FloatProgressModel",
            "bar_style": "success",
            "max": 305584576,
            "_view_module": "@jupyter-widgets/controls",
            "_model_module_version": "1.5.0",
            "value": 305584576,
            "_view_count": null,
            "_view_module_version": "1.5.0",
            "orientation": "horizontal",
            "min": 0,
            "description_tooltip": null,
            "_model_module": "@jupyter-widgets/controls",
            "layout": "IPY_MODEL_54c80c4b1b87438b91a31f812d137ff7"
          },
          "model_module_version": "1.5.0"
        },
        "b11e554833544e35ad3e83dc3c4633ea": {
          "model_module": "@jupyter-widgets/controls",
          "model_name": "HTMLModel",
          "state": {
            "_view_name": "HTMLView",
            "style": "IPY_MODEL_fe7a3b25a0814cf89a02017ef7449240",
            "_dom_classes": [],
            "description": "",
            "_model_name": "HTMLModel",
            "placeholder": "​",
            "_view_module": "@jupyter-widgets/controls",
            "_model_module_version": "1.5.0",
            "value": " 306M/306M [00:23&lt;00:00, 13.2MB/s]",
            "_view_count": null,
            "_view_module_version": "1.5.0",
            "description_tooltip": null,
            "_model_module": "@jupyter-widgets/controls",
            "layout": "IPY_MODEL_cbae82e9cbd14aa9ade36de5dae6a53e"
          },
          "model_module_version": "1.5.0"
        },
        "6429316de4b642d58bdd21f14c8b29c7": {
          "model_module": "@jupyter-widgets/controls",
          "model_name": "ProgressStyleModel",
          "state": {
            "_view_name": "StyleView",
            "_model_name": "ProgressStyleModel",
            "description_width": "initial",
            "_view_module": "@jupyter-widgets/base",
            "_model_module_version": "1.5.0",
            "_view_count": null,
            "_view_module_version": "1.2.0",
            "bar_color": null,
            "_model_module": "@jupyter-widgets/controls"
          },
          "model_module_version": "1.5.0"
        },
        "54c80c4b1b87438b91a31f812d137ff7": {
          "model_module": "@jupyter-widgets/base",
          "model_name": "LayoutModel",
          "state": {
            "_view_name": "LayoutView",
            "grid_template_rows": null,
            "right": null,
            "justify_content": null,
            "_view_module": "@jupyter-widgets/base",
            "overflow": null,
            "_model_module_version": "1.2.0",
            "_view_count": null,
            "flex_flow": null,
            "width": null,
            "min_width": null,
            "border": null,
            "align_items": null,
            "bottom": null,
            "_model_module": "@jupyter-widgets/base",
            "top": null,
            "grid_column": null,
            "overflow_y": null,
            "overflow_x": null,
            "grid_auto_flow": null,
            "grid_area": null,
            "grid_template_columns": null,
            "flex": null,
            "_model_name": "LayoutModel",
            "justify_items": null,
            "grid_row": null,
            "max_height": null,
            "align_content": null,
            "visibility": null,
            "align_self": null,
            "height": null,
            "min_height": null,
            "padding": null,
            "grid_auto_rows": null,
            "grid_gap": null,
            "max_width": null,
            "order": null,
            "_view_module_version": "1.2.0",
            "grid_template_areas": null,
            "object_position": null,
            "object_fit": null,
            "grid_auto_columns": null,
            "margin": null,
            "display": null,
            "left": null
          },
          "model_module_version": "1.2.0"
        },
        "fe7a3b25a0814cf89a02017ef7449240": {
          "model_module": "@jupyter-widgets/controls",
          "model_name": "DescriptionStyleModel",
          "state": {
            "_view_name": "StyleView",
            "_model_name": "DescriptionStyleModel",
            "description_width": "",
            "_view_module": "@jupyter-widgets/base",
            "_model_module_version": "1.5.0",
            "_view_count": null,
            "_view_module_version": "1.2.0",
            "_model_module": "@jupyter-widgets/controls"
          },
          "model_module_version": "1.5.0"
        },
        "cbae82e9cbd14aa9ade36de5dae6a53e": {
          "model_module": "@jupyter-widgets/base",
          "model_name": "LayoutModel",
          "state": {
            "_view_name": "LayoutView",
            "grid_template_rows": null,
            "right": null,
            "justify_content": null,
            "_view_module": "@jupyter-widgets/base",
            "overflow": null,
            "_model_module_version": "1.2.0",
            "_view_count": null,
            "flex_flow": null,
            "width": null,
            "min_width": null,
            "border": null,
            "align_items": null,
            "bottom": null,
            "_model_module": "@jupyter-widgets/base",
            "top": null,
            "grid_column": null,
            "overflow_y": null,
            "overflow_x": null,
            "grid_auto_flow": null,
            "grid_area": null,
            "grid_template_columns": null,
            "flex": null,
            "_model_name": "LayoutModel",
            "justify_items": null,
            "grid_row": null,
            "max_height": null,
            "align_content": null,
            "visibility": null,
            "align_self": null,
            "height": null,
            "min_height": null,
            "padding": null,
            "grid_auto_rows": null,
            "grid_gap": null,
            "max_width": null,
            "order": null,
            "_view_module_version": "1.2.0",
            "grid_template_areas": null,
            "object_position": null,
            "object_fit": null,
            "grid_auto_columns": null,
            "margin": null,
            "display": null,
            "left": null
          },
          "model_module_version": "1.2.0"
        }
      }
    }
  },
  "cells": [
    {
      "cell_type": "markdown",
      "metadata": {
        "id": "RWvvR-EoxiFd"
      },
      "source": [
        "This Notebook helps in improving quality of created news data set by adding SBERT based similarity score for each of the similar/related headline.\n",
        "\n",
        "\n",
        "\n",
        "*   SBERT (Sentence Embeddings using Siamese BERT-Networks) is used for transforming reference headline and similar headline in to their vector representation and then cosine similarity is used for calculating similarity score for similar/related headline against the reference headline.\n",
        "\n",
        "*   This similarity score will be used for filtering out less relevant similar/related headlines and will help in getting quality news dataset.\n",
        "\n"
      ]
    },
    {
      "cell_type": "code",
      "metadata": {
        "colab": {
          "base_uri": "https://localhost:8080/"
        },
        "id": "SIReeXnkd6Ic",
        "outputId": "376a47dd-a773-48ec-e867-cecadd574d6d"
      },
      "source": [
        "'''\n",
        "mount google drive folder\n",
        "'''\n",
        "from google.colab import drive\n",
        "drive.mount('/content/gdrive')"
      ],
      "execution_count": null,
      "outputs": [
        {
          "output_type": "stream",
          "text": [
            "Mounted at /content/gdrive\n"
          ],
          "name": "stdout"
        }
      ]
    },
    {
      "cell_type": "code",
      "metadata": {
        "id": "eukRehiKRei0"
      },
      "source": [
        "#SBERT for sentance level similarity analysis \n",
        "#https://github.com/UKPLab/sentence-transformers\n",
        "#https://www.sbert.net/docs/usage/semantic_textual_similarity.html"
      ],
      "execution_count": null,
      "outputs": []
    },
    {
      "cell_type": "code",
      "metadata": {
        "colab": {
          "base_uri": "https://localhost:8080/"
        },
        "id": "o9o-bAPuidVz",
        "outputId": "cc122f3a-64c0-4ff0-d1e5-bf496c301bc0"
      },
      "source": [
        "pip install -U sentence-transformers"
      ],
      "execution_count": null,
      "outputs": [
        {
          "output_type": "stream",
          "text": [
            "Collecting sentence-transformers\n",
            "\u001b[?25l  Downloading https://files.pythonhosted.org/packages/35/aa/f672ce489063c4ee7a566ebac1b723c53ac0cea19d9e36599cc241d8ed56/sentence-transformers-1.0.4.tar.gz (74kB)\n",
            "\u001b[K     |████████████████████████████████| 81kB 5.7MB/s \n",
            "\u001b[?25hCollecting transformers<5.0.0,>=3.1.0\n",
            "\u001b[?25l  Downloading https://files.pythonhosted.org/packages/d8/b2/57495b5309f09fa501866e225c84532d1fd89536ea62406b2181933fb418/transformers-4.5.1-py3-none-any.whl (2.1MB)\n",
            "\u001b[K     |████████████████████████████████| 2.1MB 11.4MB/s \n",
            "\u001b[?25hRequirement already satisfied, skipping upgrade: tqdm in /usr/local/lib/python3.7/dist-packages (from sentence-transformers) (4.41.1)\n",
            "Requirement already satisfied, skipping upgrade: torch>=1.6.0 in /usr/local/lib/python3.7/dist-packages (from sentence-transformers) (1.8.1+cu101)\n",
            "Requirement already satisfied, skipping upgrade: numpy in /usr/local/lib/python3.7/dist-packages (from sentence-transformers) (1.19.5)\n",
            "Requirement already satisfied, skipping upgrade: scikit-learn in /usr/local/lib/python3.7/dist-packages (from sentence-transformers) (0.22.2.post1)\n",
            "Requirement already satisfied, skipping upgrade: scipy in /usr/local/lib/python3.7/dist-packages (from sentence-transformers) (1.4.1)\n",
            "Requirement already satisfied, skipping upgrade: nltk in /usr/local/lib/python3.7/dist-packages (from sentence-transformers) (3.2.5)\n",
            "Collecting sentencepiece\n",
            "\u001b[?25l  Downloading https://files.pythonhosted.org/packages/f5/99/e0808cb947ba10f575839c43e8fafc9cc44e4a7a2c8f79c60db48220a577/sentencepiece-0.1.95-cp37-cp37m-manylinux2014_x86_64.whl (1.2MB)\n",
            "\u001b[K     |████████████████████████████████| 1.2MB 44.7MB/s \n",
            "\u001b[?25hRequirement already satisfied, skipping upgrade: requests in /usr/local/lib/python3.7/dist-packages (from transformers<5.0.0,>=3.1.0->sentence-transformers) (2.23.0)\n",
            "Collecting tokenizers<0.11,>=0.10.1\n",
            "\u001b[?25l  Downloading https://files.pythonhosted.org/packages/ae/04/5b870f26a858552025a62f1649c20d29d2672c02ff3c3fb4c688ca46467a/tokenizers-0.10.2-cp37-cp37m-manylinux2010_x86_64.whl (3.3MB)\n",
            "\u001b[K     |████████████████████████████████| 3.3MB 48.5MB/s \n",
            "\u001b[?25hRequirement already satisfied, skipping upgrade: filelock in /usr/local/lib/python3.7/dist-packages (from transformers<5.0.0,>=3.1.0->sentence-transformers) (3.0.12)\n",
            "Requirement already satisfied, skipping upgrade: regex!=2019.12.17 in /usr/local/lib/python3.7/dist-packages (from transformers<5.0.0,>=3.1.0->sentence-transformers) (2019.12.20)\n",
            "Requirement already satisfied, skipping upgrade: importlib-metadata; python_version < \"3.8\" in /usr/local/lib/python3.7/dist-packages (from transformers<5.0.0,>=3.1.0->sentence-transformers) (3.10.1)\n",
            "Requirement already satisfied, skipping upgrade: packaging in /usr/local/lib/python3.7/dist-packages (from transformers<5.0.0,>=3.1.0->sentence-transformers) (20.9)\n",
            "Collecting sacremoses\n",
            "\u001b[?25l  Downloading https://files.pythonhosted.org/packages/08/cd/342e584ee544d044fb573ae697404ce22ede086c9e87ce5960772084cad0/sacremoses-0.0.44.tar.gz (862kB)\n",
            "\u001b[K     |████████████████████████████████| 870kB 46.8MB/s \n",
            "\u001b[?25hRequirement already satisfied, skipping upgrade: typing-extensions in /usr/local/lib/python3.7/dist-packages (from torch>=1.6.0->sentence-transformers) (3.7.4.3)\n",
            "Requirement already satisfied, skipping upgrade: joblib>=0.11 in /usr/local/lib/python3.7/dist-packages (from scikit-learn->sentence-transformers) (1.0.1)\n",
            "Requirement already satisfied, skipping upgrade: six in /usr/local/lib/python3.7/dist-packages (from nltk->sentence-transformers) (1.15.0)\n",
            "Requirement already satisfied, skipping upgrade: urllib3!=1.25.0,!=1.25.1,<1.26,>=1.21.1 in /usr/local/lib/python3.7/dist-packages (from requests->transformers<5.0.0,>=3.1.0->sentence-transformers) (1.24.3)\n",
            "Requirement already satisfied, skipping upgrade: certifi>=2017.4.17 in /usr/local/lib/python3.7/dist-packages (from requests->transformers<5.0.0,>=3.1.0->sentence-transformers) (2020.12.5)\n",
            "Requirement already satisfied, skipping upgrade: chardet<4,>=3.0.2 in /usr/local/lib/python3.7/dist-packages (from requests->transformers<5.0.0,>=3.1.0->sentence-transformers) (3.0.4)\n",
            "Requirement already satisfied, skipping upgrade: idna<3,>=2.5 in /usr/local/lib/python3.7/dist-packages (from requests->transformers<5.0.0,>=3.1.0->sentence-transformers) (2.10)\n",
            "Requirement already satisfied, skipping upgrade: zipp>=0.5 in /usr/local/lib/python3.7/dist-packages (from importlib-metadata; python_version < \"3.8\"->transformers<5.0.0,>=3.1.0->sentence-transformers) (3.4.1)\n",
            "Requirement already satisfied, skipping upgrade: pyparsing>=2.0.2 in /usr/local/lib/python3.7/dist-packages (from packaging->transformers<5.0.0,>=3.1.0->sentence-transformers) (2.4.7)\n",
            "Requirement already satisfied, skipping upgrade: click in /usr/local/lib/python3.7/dist-packages (from sacremoses->transformers<5.0.0,>=3.1.0->sentence-transformers) (7.1.2)\n",
            "Building wheels for collected packages: sentence-transformers, sacremoses\n",
            "  Building wheel for sentence-transformers (setup.py) ... \u001b[?25l\u001b[?25hdone\n",
            "  Created wheel for sentence-transformers: filename=sentence_transformers-1.0.4-cp37-none-any.whl size=114307 sha256=2d22cd0392dc7ac165b8c563cadb50fd95eea4896ad2b23364fadd63f8a612b7\n",
            "  Stored in directory: /root/.cache/pip/wheels/26/ea/89/d0d2e013d951b6d23270aa9ca4018b82632ab7cd933c331316\n",
            "  Building wheel for sacremoses (setup.py) ... \u001b[?25l\u001b[?25hdone\n",
            "  Created wheel for sacremoses: filename=sacremoses-0.0.44-cp37-none-any.whl size=886084 sha256=b6927fe0b223308c7faed8d069d24f11e46e3f293f482c9e8af809384e2a6d61\n",
            "  Stored in directory: /root/.cache/pip/wheels/3e/fb/c0/13ab4d63d537658f448366744654323077c4d90069b6512f3c\n",
            "Successfully built sentence-transformers sacremoses\n",
            "Installing collected packages: tokenizers, sacremoses, transformers, sentencepiece, sentence-transformers\n",
            "Successfully installed sacremoses-0.0.44 sentence-transformers-1.0.4 sentencepiece-0.1.95 tokenizers-0.10.2 transformers-4.5.1\n"
          ],
          "name": "stdout"
        }
      ]
    },
    {
      "cell_type": "code",
      "metadata": {
        "id": "zOQM25Yxfp1V"
      },
      "source": [
        "'''\n",
        "import required packages\n",
        "'''\n",
        "import glob\n",
        "import pandas as pd\n",
        "import numpy as np\n",
        "\n",
        "from sentence_transformers import SentenceTransformer, util"
      ],
      "execution_count": null,
      "outputs": []
    },
    {
      "cell_type": "code",
      "metadata": {
        "colab": {
          "base_uri": "https://localhost:8080/"
        },
        "id": "tvpc3EEXePXN",
        "outputId": "8b80fca1-a62c-42eb-cc8b-58703d318936"
      },
      "source": [
        "'''\n",
        "list the saved news data pickle file. (news-url,ref-headline,news-content,author,publish-date,similar-headline-list,similar-headline-url-list)\n",
        "'''\n",
        "base_data_loc='/content/gdrive/My Drive/capstone_project/news_url_with_headline/News_atricle_details/'\n",
        "data_file_list=glob.glob(base_data_loc+'*')\n",
        "data_file_list"
      ],
      "execution_count": null,
      "outputs": [
        {
          "output_type": "execute_result",
          "data": {
            "text/plain": [
              "['/content/gdrive/My Drive/capstone_project/news_url_with_headline/News_atricle_details/data_1_50.df',\n",
              " '/content/gdrive/My Drive/capstone_project/news_url_with_headline/News_atricle_details/data_2_50.df',\n",
              " '/content/gdrive/My Drive/capstone_project/news_url_with_headline/News_atricle_details/data_3_50.df',\n",
              " '/content/gdrive/My Drive/capstone_project/news_url_with_headline/News_atricle_details/data_4_50.df',\n",
              " '/content/gdrive/My Drive/capstone_project/news_url_with_headline/News_atricle_details/data_5_50.df',\n",
              " '/content/gdrive/My Drive/capstone_project/news_url_with_headline/News_atricle_details/data_6_50.df',\n",
              " '/content/gdrive/My Drive/capstone_project/news_url_with_headline/News_atricle_details/data_7_50.df',\n",
              " '/content/gdrive/My Drive/capstone_project/news_url_with_headline/News_atricle_details/data_8_50.df',\n",
              " '/content/gdrive/My Drive/capstone_project/news_url_with_headline/News_atricle_details/data_9_50.df',\n",
              " '/content/gdrive/My Drive/capstone_project/news_url_with_headline/News_atricle_details/data_10_50.df',\n",
              " '/content/gdrive/My Drive/capstone_project/news_url_with_headline/News_atricle_details/data_11_50.df',\n",
              " '/content/gdrive/My Drive/capstone_project/news_url_with_headline/News_atricle_details/data_12_50.df',\n",
              " '/content/gdrive/My Drive/capstone_project/news_url_with_headline/News_atricle_details/data_13_50.df',\n",
              " '/content/gdrive/My Drive/capstone_project/news_url_with_headline/News_atricle_details/data_14_50.df',\n",
              " '/content/gdrive/My Drive/capstone_project/news_url_with_headline/News_atricle_details/data_15_50.df',\n",
              " '/content/gdrive/My Drive/capstone_project/news_url_with_headline/News_atricle_details/data_16_50.df',\n",
              " '/content/gdrive/My Drive/capstone_project/news_url_with_headline/News_atricle_details/data_17_50.df',\n",
              " '/content/gdrive/My Drive/capstone_project/news_url_with_headline/News_atricle_details/data_18_50.df',\n",
              " '/content/gdrive/My Drive/capstone_project/news_url_with_headline/News_atricle_details/data_19_50.df',\n",
              " '/content/gdrive/My Drive/capstone_project/news_url_with_headline/News_atricle_details/data_20_50.df',\n",
              " '/content/gdrive/My Drive/capstone_project/news_url_with_headline/News_atricle_details/data_21_50.df',\n",
              " '/content/gdrive/My Drive/capstone_project/news_url_with_headline/News_atricle_details/data_22_50.df',\n",
              " '/content/gdrive/My Drive/capstone_project/news_url_with_headline/News_atricle_details/data_23_50.df',\n",
              " '/content/gdrive/My Drive/capstone_project/news_url_with_headline/News_atricle_details/data_24_50.df',\n",
              " '/content/gdrive/My Drive/capstone_project/news_url_with_headline/News_atricle_details/data_25_50.df',\n",
              " '/content/gdrive/My Drive/capstone_project/news_url_with_headline/News_atricle_details/data_26_50.df',\n",
              " '/content/gdrive/My Drive/capstone_project/news_url_with_headline/News_atricle_details/data_27_50.df',\n",
              " '/content/gdrive/My Drive/capstone_project/news_url_with_headline/News_atricle_details/data_28_50.df',\n",
              " '/content/gdrive/My Drive/capstone_project/news_url_with_headline/News_atricle_details/data_29_50.df',\n",
              " '/content/gdrive/My Drive/capstone_project/news_url_with_headline/News_atricle_details/data_30_50.df',\n",
              " '/content/gdrive/My Drive/capstone_project/news_url_with_headline/News_atricle_details/data_31_50.df',\n",
              " '/content/gdrive/My Drive/capstone_project/news_url_with_headline/News_atricle_details/data_32_50.df',\n",
              " '/content/gdrive/My Drive/capstone_project/news_url_with_headline/News_atricle_details/data_33_50.df',\n",
              " '/content/gdrive/My Drive/capstone_project/news_url_with_headline/News_atricle_details/data_34_50.df',\n",
              " '/content/gdrive/My Drive/capstone_project/news_url_with_headline/News_atricle_details/data_35_50.df',\n",
              " '/content/gdrive/My Drive/capstone_project/news_url_with_headline/News_atricle_details/data_36_50.df',\n",
              " '/content/gdrive/My Drive/capstone_project/news_url_with_headline/News_atricle_details/data_37_50.df',\n",
              " '/content/gdrive/My Drive/capstone_project/news_url_with_headline/News_atricle_details/data_38_50.df',\n",
              " '/content/gdrive/My Drive/capstone_project/news_url_with_headline/News_atricle_details/data_39_50.df',\n",
              " '/content/gdrive/My Drive/capstone_project/news_url_with_headline/News_atricle_details/data_40_50.df',\n",
              " '/content/gdrive/My Drive/capstone_project/news_url_with_headline/News_atricle_details/data_41_50.df',\n",
              " '/content/gdrive/My Drive/capstone_project/news_url_with_headline/News_atricle_details/data_42_50.df',\n",
              " '/content/gdrive/My Drive/capstone_project/news_url_with_headline/News_atricle_details/data_43_50.df',\n",
              " '/content/gdrive/My Drive/capstone_project/news_url_with_headline/News_atricle_details/data_44_50.df',\n",
              " '/content/gdrive/My Drive/capstone_project/news_url_with_headline/News_atricle_details/data_45_50.df',\n",
              " '/content/gdrive/My Drive/capstone_project/news_url_with_headline/News_atricle_details/data_46_50.df',\n",
              " '/content/gdrive/My Drive/capstone_project/news_url_with_headline/News_atricle_details/data_47_50.df',\n",
              " '/content/gdrive/My Drive/capstone_project/news_url_with_headline/News_atricle_details/data_48_50.df',\n",
              " '/content/gdrive/My Drive/capstone_project/news_url_with_headline/News_atricle_details/data_49_50.df',\n",
              " '/content/gdrive/My Drive/capstone_project/news_url_with_headline/News_atricle_details/data_50_50.df',\n",
              " '/content/gdrive/My Drive/capstone_project/news_url_with_headline/News_atricle_details/data_51_50.df',\n",
              " '/content/gdrive/My Drive/capstone_project/news_url_with_headline/News_atricle_details/data_52_50.df',\n",
              " '/content/gdrive/My Drive/capstone_project/news_url_with_headline/News_atricle_details/data_53_50.df',\n",
              " '/content/gdrive/My Drive/capstone_project/news_url_with_headline/News_atricle_details/data_54_50.df',\n",
              " '/content/gdrive/My Drive/capstone_project/news_url_with_headline/News_atricle_details/data_55_50.df',\n",
              " '/content/gdrive/My Drive/capstone_project/news_url_with_headline/News_atricle_details/data_56_50.df',\n",
              " '/content/gdrive/My Drive/capstone_project/news_url_with_headline/News_atricle_details/data_57_50.df',\n",
              " '/content/gdrive/My Drive/capstone_project/news_url_with_headline/News_atricle_details/data_58_50.df',\n",
              " '/content/gdrive/My Drive/capstone_project/news_url_with_headline/News_atricle_details/data_59_50.df',\n",
              " '/content/gdrive/My Drive/capstone_project/news_url_with_headline/News_atricle_details/data_60_50.df']"
            ]
          },
          "metadata": {
            "tags": []
          },
          "execution_count": 9
        }
      ]
    },
    {
      "cell_type": "code",
      "metadata": {
        "colab": {
          "base_uri": "https://localhost:8080/"
        },
        "id": "Ey8qhgwHfJxC",
        "outputId": "e8a941ef-2874-4696-a5f9-72ee4e218ee8"
      },
      "source": [
        "individual_data_file_df_list=[pd.read_pickle(data_file) for data_file in data_file_list]\n",
        "article_details_df = pd.concat(individual_data_file_df_list, axis=0, ignore_index=True)\n",
        "print('article_details_df shape : ',article_details_df.shape)"
      ],
      "execution_count": null,
      "outputs": [
        {
          "output_type": "stream",
          "text": [
            "article_details_df shape :  (3000, 8)\n"
          ],
          "name": "stdout"
        }
      ]
    },
    {
      "cell_type": "code",
      "metadata": {
        "id": "1F3iwJ60hVff"
      },
      "source": [
        "pd.set_option('display.max_rows', None)\n",
        "pd.set_option('display.max_columns', None)\n",
        "pd.set_option('display.width', 2000)\n",
        "pd.set_option('display.float_format', '{:20,.2f}'.format)\n",
        "pd.set_option('display.max_colwidth', None)"
      ],
      "execution_count": null,
      "outputs": []
    },
    {
      "cell_type": "code",
      "metadata": {
        "colab": {
          "base_uri": "https://localhost:8080/",
          "height": 1000
        },
        "id": "GW1w2VYbfllP",
        "outputId": "9c33e185-245d-4788-f007-d6db3b3fd905"
      },
      "source": [
        "article_details_df.head(5)"
      ],
      "execution_count": null,
      "outputs": [
        {
          "output_type": "execute_result",
          "data": {
            "text/html": [
              "<div>\n",
              "<style scoped>\n",
              "    .dataframe tbody tr th:only-of-type {\n",
              "        vertical-align: middle;\n",
              "    }\n",
              "\n",
              "    .dataframe tbody tr th {\n",
              "        vertical-align: top;\n",
              "    }\n",
              "\n",
              "    .dataframe thead th {\n",
              "        text-align: right;\n",
              "    }\n",
              "</style>\n",
              "<table border=\"1\" class=\"dataframe\">\n",
              "  <thead>\n",
              "    <tr style=\"text-align: right;\">\n",
              "      <th></th>\n",
              "      <th>article_url</th>\n",
              "      <th>headline</th>\n",
              "      <th>content</th>\n",
              "      <th>author</th>\n",
              "      <th>published_date</th>\n",
              "      <th>read_more_source</th>\n",
              "      <th>similar_headline</th>\n",
              "      <th>similar_headline_url</th>\n",
              "    </tr>\n",
              "  </thead>\n",
              "  <tbody>\n",
              "    <tr>\n",
              "      <th>0</th>\n",
              "      <td>https://inshorts.com/en/news/you-shall-always-have-my-support-arjun-kapoor-on-janhvis-bday-1615047490059</td>\n",
              "      <td>You shall always have my support: Arjun Kapoor on Janhvi's b'day</td>\n",
              "      <td>Taking to Instagram on Saturday, Arjun Kapoor posted a picture of himself with Janhvi Kapoor to wish the actress on her 24th birthday. In the picture, Arjun can be seen walking ahead while holding his sister's hand. \"Happy birthday Janhvi...I can't promise much except like this picture you shall always have my support &amp; hand wherever you go,\" Arjun wrote.</td>\n",
              "      <td>None</td>\n",
              "      <td>2021-03-06T16:18:10.000Z</td>\n",
              "      <td>PINKVILLA</td>\n",
              "      <td>[On Janhvi Kapoor’s birthday, Arjun promises to be a constant support: You shall have my hand wherever you go, \"You will always have my support,\" Arjun Kapoor writes a heartfelt birthday note for Janhvi Kapoor., 'You shall always have my support': Arjun Kapoor pens heart-warming birthday note for Janhvi, Janhvi Kapoor rings in 24th birthday with her crew, sister Anshula plans huge surprise]</td>\n",
              "      <td>[https://www.pinkvilla.com/entertainment/news/janhvi-kapoor-s-birthday-arjun-promises-be-constant-support-you-shall-have-my-hand-wherever-you-go-633968, https://indianewsrepublic.com/you-will-always-have-my-support-arjun-kapoor-writes-a-heartfelt-birthday-note-for-janhvi-kapoor/222825/, https://english.lokmat.com/entertainment/you-shall-always-have-my-support-arjun-kapoor-pens-heart-warming-birthday-note-for-janhvi/, https://www.republicworld.com/entertainment-news/bollywood-news/janhvi-kapoor-rings-in-24th-birthday-with-her-crew-sister-anshula-plans-huge-surprise.html]</td>\n",
              "    </tr>\n",
              "    <tr>\n",
              "      <th>1</th>\n",
              "      <td>https://inshorts.com/en/news/gavaskar-felicitated-on-50th-anniversary-of-test-debut-1615046996400</td>\n",
              "      <td>Gavaskar felicitated on 50th anniversary of Test debut</td>\n",
              "      <td>Ex-India captain Sunil Gavaskar was felicitated by the BCCI on the 50th anniversary of his Test debut on Saturday. The 71-year-old received a commemorative Test cap from BCCI Secretary Jay Shah, while several ex-cricketers took to Twitter to congratulate Gavaskar. \"The game is as strong as it is today because they made a start then against all odds,\" Ganguly tweeted.</td>\n",
              "      <td>None</td>\n",
              "      <td>2021-03-06T16:09:56.000Z</td>\n",
              "      <td>read more source not available</td>\n",
              "      <td>[Sunil Gavaskar felicitated on 50th anniversary of Test debut, Sunil Gavaskar felicitated on 50th anniversary of Test debut, Sunil Gavaskar felicitated on 50th anniversary of Test debut, Sunil Gavaskar felicitated by BCCI on 50th anniversary of his Test debut, Former India captain Sunil Gavaskar felicitated by BCCI on 50th anniversary of Test debut, Sunil Gavaskar Felicitated By BCCI On 50th Anniversary Of Test Debut. Watch, Sunil Gavaskar felicitated by BCCI on 50th anniversary of Test debut, BCCI Felicitates Sunil Gavaskar On His 50th Anniversary Of Test Debut]</td>\n",
              "      <td>[https://www.thehindu.com/sport/cricket/sunil-gavaskar-felicitated-on-50th-anniversary-of-test-debut/article34005053.ece, https://www.deccanherald.com/sports/cricket/sunil-gavaskar-felicitated-on-50th-anniversary-of-test-debut-958854.html, https://timesofindia.indiatimes.com/sports/cricket/england-in-india/sunil-gavaskar-felicitated-by-bcci-on-50th-anniversary-of-test-debut/articleshow/81362569.cms, https://www.sportskeeda.com/cricket/sunil-gavaskar-felicitated-by-bcci-50th-anniversary-test-debut, https://m.economictimes.com/news/sports/former-india-captain-sunil-gavaskar-felicitated-by-bcci-on-50th-anniversary-of-test-debut/articleshow/81362570.cms, https://sports.ndtv.com/cricket/sunil-gavaskar-felicitated-by-bcci-on-50th-anniversary-of-test-debut-watch-2384926, https://www.indiatvnews.com/sports/cricket/sunil-gavaskar-felicitated-by-bcci-on-50th-anniversary-of-test-debut-689160, https://cricketaddictor.com/cricket-news/bcci-felicitates-sunil-gavaskar-on-his-50th-anniversary-of-test-debut/]</td>\n",
              "    </tr>\n",
              "    <tr>\n",
              "      <th>2</th>\n",
              "      <td>https://inshorts.com/en/news/pv-sindhu-to-face-carolina-marin-in-her-1st-final-since-2019-world-cships-win-1615046535615</td>\n",
              "      <td>PV Sindhu to face Carolina Marin in her 1st final since 2019 World C'ships win</td>\n",
              "      <td>Shuttler PV Sindhu on Saturday defeated Mia Blichfeldt in straight games to enter the final of the Swiss Open, where she'll face Carolina Marin. Notably, this is Sindhu's first final appearance since winning the BWF World Championships in August 2019. In the men's singles, Kidambi Srikanth suffered defeat in the semifinal against world number two Viktor Axelsen of Denmark.</td>\n",
              "      <td>None</td>\n",
              "      <td>2021-03-06T16:02:15.000Z</td>\n",
              "      <td>read more source not available</td>\n",
              "      <td>[Carolina Marin overpowers PV Sindhu in Swiss Open final, Sindhu becomes first Indian shuttler to win World C’ships gold, bear Okuhara in final, 21 wins, 2 silvers, 2 bronzes, 1 gold: Sindhu completes the Worlds set, PV Sindhu gets past feisty Blichfeldt to make Swiss Open final, Badminton World C’ships: Carolina Marin Beats PV Sindhu in Final, PV Sindhu vs Carolina Marin final, BWF World C'ships 2018, highlights: Marin outwits Sindhu, Carolina Marin]</td>\n",
              "      <td>[https://www.olympicchannel.com/en/stories/news/detail/badminton-carolina-marin-eases-past-pv-sindhu-swiss-open-final/, https://www.thehindu.com/sport/other-sports/pv-sindhu-becomes-first-indian-shuttler-to-win-world-championships-gold/article29253013.ece, https://www.espn.com/badminton/story/_/id/27459172/sindhu-completes-worlds-set, https://www.espn.com/badminton/story/_/id/31015323/pv-sindhu-gets-feisty-blichfeldt-make-swiss-open-final, https://www.thequint.com/sports/badminton/live-updates-sindhu-vs-marin-final-badminton-world-championships, https://www.timesnownews.com/sports/badminton/article/pv-sindhu-vs-carolina-marin-final-bwf-world-championships-2018-live-badminton-score-updates-sindhu-seeks-elusive-gold-nanjing-china/264675, https://www.deccanchronicle.com/content/tags/carolina-marin]</td>\n",
              "    </tr>\n",
              "    <tr>\n",
              "      <th>3</th>\n",
              "      <td>https://inshorts.com/en/news/linkedin-to-stop-collecting-tracking-ad-targeting-data-on-ios-1615052233555</td>\n",
              "      <td>LinkedIn to stop collecting tracking, ad targeting data on iOS</td>\n",
              "      <td>LinkedIn has announced that it will stop collecting IDFA data, which is used by firms for tracking and ad targeting, on iOS for now ahead of Apple's upcoming changes to IDFA. LinkedIn said the change affects the LinkedIn Audience Network (LAN), Conversion Tracking and Matched Audiences. It added that it expects a limited impact on users' campaign performance.</td>\n",
              "      <td>None</td>\n",
              "      <td>2021-03-06T17:37:13.000Z</td>\n",
              "      <td>Hindustan Times</td>\n",
              "      <td>[LinkedIn to stop collecting tracking data after Apple’s app tracking transparency changes, LinkedIn to Stop Collecting IDFA Data from iOS Devices in respect to Apple’s App Tracking Transparency Feature / Digital Information World, LinkedIn stops collecting tracking data ahead of iOS 14 changes, LinkedIn to stop collecting tracking data before Apple shames it, Microsoft's LinkedIn will stop the collection of IDFA data in iOS app, News Break: Local News &amp; Breaking News, LinkedIn Won't Use IDFA After Apple's App Tracking Transparency Changes, LinkedIn stops collecting tracking data ahead of iOS 14 changes, LinkedIn will stop collecting IDFA data on iOS due to Apple’s App Tracking Transparency feature]</td>\n",
              "      <td>[https://www.thehindu.com/sci-tech/technology/linkedin-to-stop-collecting-tracking-data-after-apples-app-tracking-transparency-changes/article33996177.ece, https://www.digitalinformationworld.com/2021/03/linkedin-to-stop-collecting-idfa-data.html, https://www.engadget.com/linkedin-stops-idfa-collection-before-ios-14-205531990.html, https://www.imore.com/linkedin-stop-collecting-tracking-data-apple-shames-it, https://mspoweruser.com/microsoft-linkedin-idfa-data-in-ios-app/, https://www.newsbreak.com/news/2176214961600/microsofts-linkedin-will-stop-the-collection-of-idfa-data-in-ios-app, https://www.macrumors.com/2021/03/04/linkedin-app-tracking-transparency-no-idfa/, https://finance.yahoo.com/news/linkedin-stops-idfa-collection-before-ios-14-205531990.html, https://9to5mac.com/2021/03/04/linkedin-idfa-data-ios/]</td>\n",
              "    </tr>\n",
              "    <tr>\n",
              "      <th>4</th>\n",
              "      <td>https://inshorts.com/en/news/samsung-mastercard-to-make-fingerprintauthenticated-payment-cards-1615084208223</td>\n",
              "      <td>Samsung, Mastercard to make fingerprint-authenticated payment cards</td>\n",
              "      <td>Samsung Electronics and Mastercard have signed an MoU to develop biometric cards that feature a built-in fingerprint scanner to authorise transactions securely at in-store payment terminals. These biometric cards will be powered by a new security chipset developed by Samsung's System LSI Business. Users will be able to use them at any Mastercard chip terminal or POS terminal.</td>\n",
              "      <td>None</td>\n",
              "      <td>2021-03-07</td>\n",
              "      <td>Hindustan Times</td>\n",
              "      <td>[Samsung and Mastercard are collaborating on a fingerprint payment card, Samsung Electronics, Mastercard and Samsung Card Sign MoU for Fingerprint Biometric Payment Card, Samsung and Mastercard teaming up on a finger-scanning card, Samsung and Mastercard Are Developing a Biometric Card, Samsung, Mastercard to launch payment cards with fingerprint sensors, Samsung and Mastercard to pilot biometric payments card in South Korea, Samsung Electronics, Mastercard and Samsung Card develop fingerprint biometric payment card]</td>\n",
              "      <td>[https://www.engadget.com/samsung-and-mastercard-are-making-a-fingerprint-payment-card-114549845.html, https://www.businesswire.com/news/home/20210304005394/en/Samsung-Electronics-Mastercard-and-Samsung-Card-Sign-MoU-for-Fingerprint-Biometric-Payment-Card, https://www.pocket-lint.com/gadgets/news/samsung/155999-samsung-mastercard-fingerprint-scanning-credit-card, https://www.pcmag.com/news/samsung-and-mastercard-are-developing-a-biometric-card, https://tech.hindustantimes.com/tech/news/samsung-mastercard-to-launch-payment-cards-with-fingerprint-sensors-71615041010868.html, https://www.zdnet.com/article/samsung-and-mastercard-to-pilot-biometric-payments-card-in-south-korea/, https://www.helpnetsecurity.com/2021/03/05/samsung-electronics-mastercard-samsung-card/]</td>\n",
              "    </tr>\n",
              "  </tbody>\n",
              "</table>\n",
              "</div>"
            ],
            "text/plain": [
              "                                                                                                                article_url                                                                        headline                                                                                                                                                                                                                                                                                                                                                                                     content author            published_date                read_more_source                                                                                                                                                                                                                                                                                                                                                                                                                                                                                                                                                                                                                                                                                                                      similar_headline  \\\n",
              "0                  https://inshorts.com/en/news/you-shall-always-have-my-support-arjun-kapoor-on-janhvis-bday-1615047490059                You shall always have my support: Arjun Kapoor on Janhvi's b'day                       Taking to Instagram on Saturday, Arjun Kapoor posted a picture of himself with Janhvi Kapoor to wish the actress on her 24th birthday. In the picture, Arjun can be seen walking ahead while holding his sister's hand. \"Happy birthday Janhvi...I can't promise much except like this picture you shall always have my support & hand wherever you go,\" Arjun wrote.   None  2021-03-06T16:18:10.000Z                       PINKVILLA                                                                                                                                                                                                                                                                                                                             [On Janhvi Kapoor’s birthday, Arjun promises to be a constant support: You shall have my hand wherever you go, \"You will always have my support,\" Arjun Kapoor writes a heartfelt birthday note for Janhvi Kapoor., 'You shall always have my support': Arjun Kapoor pens heart-warming birthday note for Janhvi, Janhvi Kapoor rings in 24th birthday with her crew, sister Anshula plans huge surprise]   \n",
              "1                         https://inshorts.com/en/news/gavaskar-felicitated-on-50th-anniversary-of-test-debut-1615046996400                          Gavaskar felicitated on 50th anniversary of Test debut           Ex-India captain Sunil Gavaskar was felicitated by the BCCI on the 50th anniversary of his Test debut on Saturday. The 71-year-old received a commemorative Test cap from BCCI Secretary Jay Shah, while several ex-cricketers took to Twitter to congratulate Gavaskar. \"The game is as strong as it is today because they made a start then against all odds,\" Ganguly tweeted.   None  2021-03-06T16:09:56.000Z  read more source not available                                                                                                                                             [Sunil Gavaskar felicitated on 50th anniversary of Test debut, Sunil Gavaskar felicitated on 50th anniversary of Test debut, Sunil Gavaskar felicitated on 50th anniversary of Test debut, Sunil Gavaskar felicitated by BCCI on 50th anniversary of his Test debut, Former India captain Sunil Gavaskar felicitated by BCCI on 50th anniversary of Test debut, Sunil Gavaskar Felicitated By BCCI On 50th Anniversary Of Test Debut. Watch, Sunil Gavaskar felicitated by BCCI on 50th anniversary of Test debut, BCCI Felicitates Sunil Gavaskar On His 50th Anniversary Of Test Debut]   \n",
              "2  https://inshorts.com/en/news/pv-sindhu-to-face-carolina-marin-in-her-1st-final-since-2019-world-cships-win-1615046535615  PV Sindhu to face Carolina Marin in her 1st final since 2019 World C'ships win     Shuttler PV Sindhu on Saturday defeated Mia Blichfeldt in straight games to enter the final of the Swiss Open, where she'll face Carolina Marin. Notably, this is Sindhu's first final appearance since winning the BWF World Championships in August 2019. In the men's singles, Kidambi Srikanth suffered defeat in the semifinal against world number two Viktor Axelsen of Denmark.   None  2021-03-06T16:02:15.000Z  read more source not available                                                                                                                                                                                                                                                               [Carolina Marin overpowers PV Sindhu in Swiss Open final, Sindhu becomes first Indian shuttler to win World C’ships gold, bear Okuhara in final, 21 wins, 2 silvers, 2 bronzes, 1 gold: Sindhu completes the Worlds set, PV Sindhu gets past feisty Blichfeldt to make Swiss Open final, Badminton World C’ships: Carolina Marin Beats PV Sindhu in Final, PV Sindhu vs Carolina Marin final, BWF World C'ships 2018, highlights: Marin outwits Sindhu, Carolina Marin]   \n",
              "3                  https://inshorts.com/en/news/linkedin-to-stop-collecting-tracking-ad-targeting-data-on-ios-1615052233555                  LinkedIn to stop collecting tracking, ad targeting data on iOS                   LinkedIn has announced that it will stop collecting IDFA data, which is used by firms for tracking and ad targeting, on iOS for now ahead of Apple's upcoming changes to IDFA. LinkedIn said the change affects the LinkedIn Audience Network (LAN), Conversion Tracking and Matched Audiences. It added that it expects a limited impact on users' campaign performance.   None  2021-03-06T17:37:13.000Z                 Hindustan Times  [LinkedIn to stop collecting tracking data after Apple’s app tracking transparency changes, LinkedIn to Stop Collecting IDFA Data from iOS Devices in respect to Apple’s App Tracking Transparency Feature / Digital Information World, LinkedIn stops collecting tracking data ahead of iOS 14 changes, LinkedIn to stop collecting tracking data before Apple shames it, Microsoft's LinkedIn will stop the collection of IDFA data in iOS app, News Break: Local News & Breaking News, LinkedIn Won't Use IDFA After Apple's App Tracking Transparency Changes, LinkedIn stops collecting tracking data ahead of iOS 14 changes, LinkedIn will stop collecting IDFA data on iOS due to Apple’s App Tracking Transparency feature]   \n",
              "4              https://inshorts.com/en/news/samsung-mastercard-to-make-fingerprintauthenticated-payment-cards-1615084208223             Samsung, Mastercard to make fingerprint-authenticated payment cards  Samsung Electronics and Mastercard have signed an MoU to develop biometric cards that feature a built-in fingerprint scanner to authorise transactions securely at in-store payment terminals. These biometric cards will be powered by a new security chipset developed by Samsung's System LSI Business. Users will be able to use them at any Mastercard chip terminal or POS terminal.   None                2021-03-07                 Hindustan Times                                                                                                                                                                                            [Samsung and Mastercard are collaborating on a fingerprint payment card, Samsung Electronics, Mastercard and Samsung Card Sign MoU for Fingerprint Biometric Payment Card, Samsung and Mastercard teaming up on a finger-scanning card, Samsung and Mastercard Are Developing a Biometric Card, Samsung, Mastercard to launch payment cards with fingerprint sensors, Samsung and Mastercard to pilot biometric payments card in South Korea, Samsung Electronics, Mastercard and Samsung Card develop fingerprint biometric payment card]   \n",
              "\n",
              "                                                                                                                                                                                                                                                                                                                                                                                                                                                                                                                                                                                                                                                                                                                                                                                                                                                                                                                                                                                                                              similar_headline_url  \n",
              "0                                                                                                                                                                                                                                                                                                                                                                                                                                                 [https://www.pinkvilla.com/entertainment/news/janhvi-kapoor-s-birthday-arjun-promises-be-constant-support-you-shall-have-my-hand-wherever-you-go-633968, https://indianewsrepublic.com/you-will-always-have-my-support-arjun-kapoor-writes-a-heartfelt-birthday-note-for-janhvi-kapoor/222825/, https://english.lokmat.com/entertainment/you-shall-always-have-my-support-arjun-kapoor-pens-heart-warming-birthday-note-for-janhvi/, https://www.republicworld.com/entertainment-news/bollywood-news/janhvi-kapoor-rings-in-24th-birthday-with-her-crew-sister-anshula-plans-huge-surprise.html]  \n",
              "1  [https://www.thehindu.com/sport/cricket/sunil-gavaskar-felicitated-on-50th-anniversary-of-test-debut/article34005053.ece, https://www.deccanherald.com/sports/cricket/sunil-gavaskar-felicitated-on-50th-anniversary-of-test-debut-958854.html, https://timesofindia.indiatimes.com/sports/cricket/england-in-india/sunil-gavaskar-felicitated-by-bcci-on-50th-anniversary-of-test-debut/articleshow/81362569.cms, https://www.sportskeeda.com/cricket/sunil-gavaskar-felicitated-by-bcci-50th-anniversary-test-debut, https://m.economictimes.com/news/sports/former-india-captain-sunil-gavaskar-felicitated-by-bcci-on-50th-anniversary-of-test-debut/articleshow/81362570.cms, https://sports.ndtv.com/cricket/sunil-gavaskar-felicitated-by-bcci-on-50th-anniversary-of-test-debut-watch-2384926, https://www.indiatvnews.com/sports/cricket/sunil-gavaskar-felicitated-by-bcci-on-50th-anniversary-of-test-debut-689160, https://cricketaddictor.com/cricket-news/bcci-felicitates-sunil-gavaskar-on-his-50th-anniversary-of-test-debut/]  \n",
              "2                                                                                                                                                                                                           [https://www.olympicchannel.com/en/stories/news/detail/badminton-carolina-marin-eases-past-pv-sindhu-swiss-open-final/, https://www.thehindu.com/sport/other-sports/pv-sindhu-becomes-first-indian-shuttler-to-win-world-championships-gold/article29253013.ece, https://www.espn.com/badminton/story/_/id/27459172/sindhu-completes-worlds-set, https://www.espn.com/badminton/story/_/id/31015323/pv-sindhu-gets-feisty-blichfeldt-make-swiss-open-final, https://www.thequint.com/sports/badminton/live-updates-sindhu-vs-marin-final-badminton-world-championships, https://www.timesnownews.com/sports/badminton/article/pv-sindhu-vs-carolina-marin-final-bwf-world-championships-2018-live-badminton-score-updates-sindhu-seeks-elusive-gold-nanjing-china/264675, https://www.deccanchronicle.com/content/tags/carolina-marin]  \n",
              "3                                                                                                                                                                                           [https://www.thehindu.com/sci-tech/technology/linkedin-to-stop-collecting-tracking-data-after-apples-app-tracking-transparency-changes/article33996177.ece, https://www.digitalinformationworld.com/2021/03/linkedin-to-stop-collecting-idfa-data.html, https://www.engadget.com/linkedin-stops-idfa-collection-before-ios-14-205531990.html, https://www.imore.com/linkedin-stop-collecting-tracking-data-apple-shames-it, https://mspoweruser.com/microsoft-linkedin-idfa-data-in-ios-app/, https://www.newsbreak.com/news/2176214961600/microsofts-linkedin-will-stop-the-collection-of-idfa-data-in-ios-app, https://www.macrumors.com/2021/03/04/linkedin-app-tracking-transparency-no-idfa/, https://finance.yahoo.com/news/linkedin-stops-idfa-collection-before-ios-14-205531990.html, https://9to5mac.com/2021/03/04/linkedin-idfa-data-ios/]  \n",
              "4                                                                                                                                                                                                                                              [https://www.engadget.com/samsung-and-mastercard-are-making-a-fingerprint-payment-card-114549845.html, https://www.businesswire.com/news/home/20210304005394/en/Samsung-Electronics-Mastercard-and-Samsung-Card-Sign-MoU-for-Fingerprint-Biometric-Payment-Card, https://www.pocket-lint.com/gadgets/news/samsung/155999-samsung-mastercard-fingerprint-scanning-credit-card, https://www.pcmag.com/news/samsung-and-mastercard-are-developing-a-biometric-card, https://tech.hindustantimes.com/tech/news/samsung-mastercard-to-launch-payment-cards-with-fingerprint-sensors-71615041010868.html, https://www.zdnet.com/article/samsung-and-mastercard-to-pilot-biometric-payments-card-in-south-korea/, https://www.helpnetsecurity.com/2021/03/05/samsung-electronics-mastercard-samsung-card/]  "
            ]
          },
          "metadata": {
            "tags": []
          },
          "execution_count": 36
        }
      ]
    },
    {
      "cell_type": "code",
      "metadata": {
        "colab": {
          "base_uri": "https://localhost:8080/",
          "height": 66,
          "referenced_widgets": [
            "50f17466a7824961b59657378f3befaf",
            "551009505d7748e382205be90e69d3b7",
            "ad085847cb6c45adb9149a49d0d3b4ed",
            "b11e554833544e35ad3e83dc3c4633ea",
            "6429316de4b642d58bdd21f14c8b29c7",
            "54c80c4b1b87438b91a31f812d137ff7",
            "fe7a3b25a0814cf89a02017ef7449240",
            "cbae82e9cbd14aa9ade36de5dae6a53e"
          ]
        },
        "id": "y1qXTeBdi-L1",
        "outputId": "7706f4bd-1fb5-4743-d005-3999e303c0e1"
      },
      "source": [
        "'''\n",
        "load the pre-trained SBERT model. this will be used for finding similarity between two sentences. \n",
        "'''\n",
        "model = SentenceTransformer('paraphrase-distilroberta-base-v1')"
      ],
      "execution_count": null,
      "outputs": [
        {
          "output_type": "display_data",
          "data": {
            "application/vnd.jupyter.widget-view+json": {
              "model_id": "50f17466a7824961b59657378f3befaf",
              "version_minor": 0,
              "version_major": 2
            },
            "text/plain": [
              "HBox(children=(FloatProgress(value=0.0, max=305584576.0), HTML(value='')))"
            ]
          },
          "metadata": {
            "tags": []
          }
        },
        {
          "output_type": "stream",
          "text": [
            "\n"
          ],
          "name": "stdout"
        }
      ]
    },
    {
      "cell_type": "code",
      "metadata": {
        "id": "B5W3qY8XioeD"
      },
      "source": [
        "'''\n",
        "function to calculate similarity score for each of the similar headline against reference headline\n",
        "'''\n",
        "def get_similarity_scores(reference_headline,similar_reference_headlines):\n",
        "  cosine_scores=[]\n",
        "  #Compute embedding for both lists\n",
        "  ref_headline_embed = model.encode(reference_headline, convert_to_tensor=True)\n",
        "  for headline in similar_reference_headlines:\n",
        "    headline_embed = model.encode(headline, convert_to_tensor=True)\n",
        "    #print('embedding shape: ',headline_embed.shape)\n",
        "    #Compute cosine-similarits\n",
        "    cosine_score = util.pytorch_cos_sim(ref_headline_embed, headline_embed).item()\n",
        "    cosine_scores.append(round(cosine_score, 2))\n",
        "  return cosine_scores"
      ],
      "execution_count": null,
      "outputs": []
    },
    {
      "cell_type": "code",
      "metadata": {
        "colab": {
          "base_uri": "https://localhost:8080/"
        },
        "id": "Qpn-MVEmjM8Y",
        "outputId": "532b8c44-b1f5-409d-f706-3d8f76faf3ca"
      },
      "source": [
        "'''\n",
        "test function 'get_similarity_scores'\n",
        "'''\n",
        "news_summary='A 58-year-old suspected COVID-19 patient, who was put on ventilator, was wrongly declared dead twice by authorities earlier this week at a hospital in Madhya Pradesh. The second time the patient\\'s family even prepared for his funeral rites, only for the hospital officials to admit the mix-up shortly after. Officials at the hospital attributed the incident to \\\"confusion\\\".'\n",
        "reference_headline='Suspected COVID-19 patient wrongly declared dead twice by MP hospital(Inshorts)'\n",
        "similar_reference_headlines=['Madhya Pradesh Hospital Wrongly Declares Covid Patient Dead - Twice',\n",
        "'In major goof-up, Madhya Pradesh man on ventilator declared dead twice',\n",
        "'MP COVID mess: Patient declared dead twice by hospital; mismatch at official death figures']\n",
        "print(get_similarity_scores(reference_headline,similar_reference_headlines))\n",
        "\n",
        "df_row=article_details_df.iloc[1]\n",
        "reference_headline=df_row['headline']\n",
        "similar_reference_headlines=df_row['similar_headline']\n",
        "print('reference_headline: ',reference_headline)\n",
        "print('similar_reference_headlines: ',similar_reference_headlines)\n",
        "print('similarity scores: ',get_similarity_scores(reference_headline,similar_reference_headlines))"
      ],
      "execution_count": null,
      "outputs": [
        {
          "output_type": "stream",
          "text": [
            "[0.59, 0.44, 0.79]\n",
            "reference_headline:  Gavaskar felicitated on 50th anniversary of Test debut\n",
            "similar_reference_headlines:  ['Sunil Gavaskar felicitated on 50th anniversary of Test debut', 'Sunil Gavaskar felicitated on 50th anniversary of Test debut', 'Sunil Gavaskar felicitated on 50th anniversary of Test debut', 'Sunil Gavaskar felicitated by BCCI on 50th anniversary of his Test debut', 'Former India captain Sunil Gavaskar felicitated by BCCI on 50th anniversary of Test debut', 'Sunil Gavaskar Felicitated By BCCI On 50th Anniversary Of Test Debut. Watch', 'Sunil Gavaskar felicitated by BCCI on 50th anniversary of Test debut', 'BCCI Felicitates Sunil Gavaskar On His 50th Anniversary Of Test Debut']\n",
            "similarity scores:  [0.95, 0.95, 0.95, 0.88, 0.86, 0.76, 0.88, 0.81]\n"
          ],
          "name": "stdout"
        }
      ]
    },
    {
      "cell_type": "code",
      "metadata": {
        "id": "aCBw2bwImBxa"
      },
      "source": [
        "'''\n",
        "calculate similarity score for similar headline against reference headline for evry news data record\n",
        "'''\n",
        "similarity_scores=[]\n",
        "for index, row in article_details_df.iterrows():\n",
        "  reference_headline=row['headline']\n",
        "  similar_reference_headlines=row['similar_headline']\n",
        "  scores=get_similarity_scores(reference_headline,similar_reference_headlines)\n",
        "  similarity_scores.append(scores)"
      ],
      "execution_count": null,
      "outputs": []
    },
    {
      "cell_type": "code",
      "metadata": {
        "id": "aBlMF8jihXgw"
      },
      "source": [
        "'''\n",
        "add calculated similarity score as new column in the existing news dataset\n",
        "'''\n",
        "article_details_df['similarity_scores']=similarity_scores"
      ],
      "execution_count": null,
      "outputs": []
    },
    {
      "cell_type": "code",
      "metadata": {
        "colab": {
          "base_uri": "https://localhost:8080/",
          "height": 1000
        },
        "id": "6PDfrZ2qy08j",
        "outputId": "ac51c6ad-2662-4716-a33f-ccab5159038f"
      },
      "source": [
        "'''\n",
        "show a sample record\n",
        "'''\n",
        "article_details_df.head(3)"
      ],
      "execution_count": null,
      "outputs": [
        {
          "output_type": "execute_result",
          "data": {
            "text/html": [
              "<div>\n",
              "<style scoped>\n",
              "    .dataframe tbody tr th:only-of-type {\n",
              "        vertical-align: middle;\n",
              "    }\n",
              "\n",
              "    .dataframe tbody tr th {\n",
              "        vertical-align: top;\n",
              "    }\n",
              "\n",
              "    .dataframe thead th {\n",
              "        text-align: right;\n",
              "    }\n",
              "</style>\n",
              "<table border=\"1\" class=\"dataframe\">\n",
              "  <thead>\n",
              "    <tr style=\"text-align: right;\">\n",
              "      <th></th>\n",
              "      <th>article_url</th>\n",
              "      <th>headline</th>\n",
              "      <th>content</th>\n",
              "      <th>author</th>\n",
              "      <th>published_date</th>\n",
              "      <th>read_more_source</th>\n",
              "      <th>similar_headline</th>\n",
              "      <th>similar_headline_url</th>\n",
              "      <th>similarity_scores</th>\n",
              "    </tr>\n",
              "  </thead>\n",
              "  <tbody>\n",
              "    <tr>\n",
              "      <th>0</th>\n",
              "      <td>https://inshorts.com/en/news/you-shall-always-have-my-support-arjun-kapoor-on-janhvis-bday-1615047490059</td>\n",
              "      <td>You shall always have my support: Arjun Kapoor on Janhvi's b'day</td>\n",
              "      <td>Taking to Instagram on Saturday, Arjun Kapoor posted a picture of himself with Janhvi Kapoor to wish the actress on her 24th birthday. In the picture, Arjun can be seen walking ahead while holding his sister's hand. \"Happy birthday Janhvi...I can't promise much except like this picture you shall always have my support &amp; hand wherever you go,\" Arjun wrote.</td>\n",
              "      <td>None</td>\n",
              "      <td>2021-03-06T16:18:10.000Z</td>\n",
              "      <td>PINKVILLA</td>\n",
              "      <td>[On Janhvi Kapoor’s birthday, Arjun promises to be a constant support: You shall have my hand wherever you go, \"You will always have my support,\" Arjun Kapoor writes a heartfelt birthday note for Janhvi Kapoor., 'You shall always have my support': Arjun Kapoor pens heart-warming birthday note for Janhvi, Janhvi Kapoor rings in 24th birthday with her crew, sister Anshula plans huge surprise]</td>\n",
              "      <td>[https://www.pinkvilla.com/entertainment/news/janhvi-kapoor-s-birthday-arjun-promises-be-constant-support-you-shall-have-my-hand-wherever-you-go-633968, https://indianewsrepublic.com/you-will-always-have-my-support-arjun-kapoor-writes-a-heartfelt-birthday-note-for-janhvi-kapoor/222825/, https://english.lokmat.com/entertainment/you-shall-always-have-my-support-arjun-kapoor-pens-heart-warming-birthday-note-for-janhvi/, https://www.republicworld.com/entertainment-news/bollywood-news/janhvi-kapoor-rings-in-24th-birthday-with-her-crew-sister-anshula-plans-huge-surprise.html]</td>\n",
              "      <td>[0.7, 0.8, 0.8, 0.41]</td>\n",
              "    </tr>\n",
              "    <tr>\n",
              "      <th>1</th>\n",
              "      <td>https://inshorts.com/en/news/gavaskar-felicitated-on-50th-anniversary-of-test-debut-1615046996400</td>\n",
              "      <td>Gavaskar felicitated on 50th anniversary of Test debut</td>\n",
              "      <td>Ex-India captain Sunil Gavaskar was felicitated by the BCCI on the 50th anniversary of his Test debut on Saturday. The 71-year-old received a commemorative Test cap from BCCI Secretary Jay Shah, while several ex-cricketers took to Twitter to congratulate Gavaskar. \"The game is as strong as it is today because they made a start then against all odds,\" Ganguly tweeted.</td>\n",
              "      <td>None</td>\n",
              "      <td>2021-03-06T16:09:56.000Z</td>\n",
              "      <td>read more source not available</td>\n",
              "      <td>[Sunil Gavaskar felicitated on 50th anniversary of Test debut, Sunil Gavaskar felicitated on 50th anniversary of Test debut, Sunil Gavaskar felicitated on 50th anniversary of Test debut, Sunil Gavaskar felicitated by BCCI on 50th anniversary of his Test debut, Former India captain Sunil Gavaskar felicitated by BCCI on 50th anniversary of Test debut, Sunil Gavaskar Felicitated By BCCI On 50th Anniversary Of Test Debut. Watch, Sunil Gavaskar felicitated by BCCI on 50th anniversary of Test debut, BCCI Felicitates Sunil Gavaskar On His 50th Anniversary Of Test Debut]</td>\n",
              "      <td>[https://www.thehindu.com/sport/cricket/sunil-gavaskar-felicitated-on-50th-anniversary-of-test-debut/article34005053.ece, https://www.deccanherald.com/sports/cricket/sunil-gavaskar-felicitated-on-50th-anniversary-of-test-debut-958854.html, https://timesofindia.indiatimes.com/sports/cricket/england-in-india/sunil-gavaskar-felicitated-by-bcci-on-50th-anniversary-of-test-debut/articleshow/81362569.cms, https://www.sportskeeda.com/cricket/sunil-gavaskar-felicitated-by-bcci-50th-anniversary-test-debut, https://m.economictimes.com/news/sports/former-india-captain-sunil-gavaskar-felicitated-by-bcci-on-50th-anniversary-of-test-debut/articleshow/81362570.cms, https://sports.ndtv.com/cricket/sunil-gavaskar-felicitated-by-bcci-on-50th-anniversary-of-test-debut-watch-2384926, https://www.indiatvnews.com/sports/cricket/sunil-gavaskar-felicitated-by-bcci-on-50th-anniversary-of-test-debut-689160, https://cricketaddictor.com/cricket-news/bcci-felicitates-sunil-gavaskar-on-his-50th-anniversary-of-test-debut/]</td>\n",
              "      <td>[0.95, 0.95, 0.95, 0.88, 0.86, 0.76, 0.88, 0.81]</td>\n",
              "    </tr>\n",
              "    <tr>\n",
              "      <th>2</th>\n",
              "      <td>https://inshorts.com/en/news/pv-sindhu-to-face-carolina-marin-in-her-1st-final-since-2019-world-cships-win-1615046535615</td>\n",
              "      <td>PV Sindhu to face Carolina Marin in her 1st final since 2019 World C'ships win</td>\n",
              "      <td>Shuttler PV Sindhu on Saturday defeated Mia Blichfeldt in straight games to enter the final of the Swiss Open, where she'll face Carolina Marin. Notably, this is Sindhu's first final appearance since winning the BWF World Championships in August 2019. In the men's singles, Kidambi Srikanth suffered defeat in the semifinal against world number two Viktor Axelsen of Denmark.</td>\n",
              "      <td>None</td>\n",
              "      <td>2021-03-06T16:02:15.000Z</td>\n",
              "      <td>read more source not available</td>\n",
              "      <td>[Carolina Marin overpowers PV Sindhu in Swiss Open final, Sindhu becomes first Indian shuttler to win World C’ships gold, bear Okuhara in final, 21 wins, 2 silvers, 2 bronzes, 1 gold: Sindhu completes the Worlds set, PV Sindhu gets past feisty Blichfeldt to make Swiss Open final, Badminton World C’ships: Carolina Marin Beats PV Sindhu in Final, PV Sindhu vs Carolina Marin final, BWF World C'ships 2018, highlights: Marin outwits Sindhu, Carolina Marin]</td>\n",
              "      <td>[https://www.olympicchannel.com/en/stories/news/detail/badminton-carolina-marin-eases-past-pv-sindhu-swiss-open-final/, https://www.thehindu.com/sport/other-sports/pv-sindhu-becomes-first-indian-shuttler-to-win-world-championships-gold/article29253013.ece, https://www.espn.com/badminton/story/_/id/27459172/sindhu-completes-worlds-set, https://www.espn.com/badminton/story/_/id/31015323/pv-sindhu-gets-feisty-blichfeldt-make-swiss-open-final, https://www.thequint.com/sports/badminton/live-updates-sindhu-vs-marin-final-badminton-world-championships, https://www.timesnownews.com/sports/badminton/article/pv-sindhu-vs-carolina-marin-final-bwf-world-championships-2018-live-badminton-score-updates-sindhu-seeks-elusive-gold-nanjing-china/264675, https://www.deccanchronicle.com/content/tags/carolina-marin]</td>\n",
              "      <td>[0.68, 0.44, 0.37, 0.47, 0.7, 0.72, 0.37]</td>\n",
              "    </tr>\n",
              "  </tbody>\n",
              "</table>\n",
              "</div>"
            ],
            "text/plain": [
              "                                                                                                                article_url                                                                        headline                                                                                                                                                                                                                                                                                                                                                                                  content author            published_date                read_more_source                                                                                                                                                                                                                                                                                                                                                                                                                                                                                                                                                                           similar_headline  \\\n",
              "0                  https://inshorts.com/en/news/you-shall-always-have-my-support-arjun-kapoor-on-janhvis-bday-1615047490059                You shall always have my support: Arjun Kapoor on Janhvi's b'day                    Taking to Instagram on Saturday, Arjun Kapoor posted a picture of himself with Janhvi Kapoor to wish the actress on her 24th birthday. In the picture, Arjun can be seen walking ahead while holding his sister's hand. \"Happy birthday Janhvi...I can't promise much except like this picture you shall always have my support & hand wherever you go,\" Arjun wrote.   None  2021-03-06T16:18:10.000Z                       PINKVILLA                                                                                                                                                                                  [On Janhvi Kapoor’s birthday, Arjun promises to be a constant support: You shall have my hand wherever you go, \"You will always have my support,\" Arjun Kapoor writes a heartfelt birthday note for Janhvi Kapoor., 'You shall always have my support': Arjun Kapoor pens heart-warming birthday note for Janhvi, Janhvi Kapoor rings in 24th birthday with her crew, sister Anshula plans huge surprise]   \n",
              "1                         https://inshorts.com/en/news/gavaskar-felicitated-on-50th-anniversary-of-test-debut-1615046996400                          Gavaskar felicitated on 50th anniversary of Test debut        Ex-India captain Sunil Gavaskar was felicitated by the BCCI on the 50th anniversary of his Test debut on Saturday. The 71-year-old received a commemorative Test cap from BCCI Secretary Jay Shah, while several ex-cricketers took to Twitter to congratulate Gavaskar. \"The game is as strong as it is today because they made a start then against all odds,\" Ganguly tweeted.   None  2021-03-06T16:09:56.000Z  read more source not available  [Sunil Gavaskar felicitated on 50th anniversary of Test debut, Sunil Gavaskar felicitated on 50th anniversary of Test debut, Sunil Gavaskar felicitated on 50th anniversary of Test debut, Sunil Gavaskar felicitated by BCCI on 50th anniversary of his Test debut, Former India captain Sunil Gavaskar felicitated by BCCI on 50th anniversary of Test debut, Sunil Gavaskar Felicitated By BCCI On 50th Anniversary Of Test Debut. Watch, Sunil Gavaskar felicitated by BCCI on 50th anniversary of Test debut, BCCI Felicitates Sunil Gavaskar On His 50th Anniversary Of Test Debut]   \n",
              "2  https://inshorts.com/en/news/pv-sindhu-to-face-carolina-marin-in-her-1st-final-since-2019-world-cships-win-1615046535615  PV Sindhu to face Carolina Marin in her 1st final since 2019 World C'ships win  Shuttler PV Sindhu on Saturday defeated Mia Blichfeldt in straight games to enter the final of the Swiss Open, where she'll face Carolina Marin. Notably, this is Sindhu's first final appearance since winning the BWF World Championships in August 2019. In the men's singles, Kidambi Srikanth suffered defeat in the semifinal against world number two Viktor Axelsen of Denmark.   None  2021-03-06T16:02:15.000Z  read more source not available                                                                                                                    [Carolina Marin overpowers PV Sindhu in Swiss Open final, Sindhu becomes first Indian shuttler to win World C’ships gold, bear Okuhara in final, 21 wins, 2 silvers, 2 bronzes, 1 gold: Sindhu completes the Worlds set, PV Sindhu gets past feisty Blichfeldt to make Swiss Open final, Badminton World C’ships: Carolina Marin Beats PV Sindhu in Final, PV Sindhu vs Carolina Marin final, BWF World C'ships 2018, highlights: Marin outwits Sindhu, Carolina Marin]   \n",
              "\n",
              "                                                                                                                                                                                                                                                                                                                                                                                                                                                                                                                                                                                                                                                                                                                                                                                                                                                                                                                                                                                                                              similar_headline_url                                 similarity_scores  \n",
              "0                                                                                                                                                                                                                                                                                                                                                                                                                                                 [https://www.pinkvilla.com/entertainment/news/janhvi-kapoor-s-birthday-arjun-promises-be-constant-support-you-shall-have-my-hand-wherever-you-go-633968, https://indianewsrepublic.com/you-will-always-have-my-support-arjun-kapoor-writes-a-heartfelt-birthday-note-for-janhvi-kapoor/222825/, https://english.lokmat.com/entertainment/you-shall-always-have-my-support-arjun-kapoor-pens-heart-warming-birthday-note-for-janhvi/, https://www.republicworld.com/entertainment-news/bollywood-news/janhvi-kapoor-rings-in-24th-birthday-with-her-crew-sister-anshula-plans-huge-surprise.html]                             [0.7, 0.8, 0.8, 0.41]  \n",
              "1  [https://www.thehindu.com/sport/cricket/sunil-gavaskar-felicitated-on-50th-anniversary-of-test-debut/article34005053.ece, https://www.deccanherald.com/sports/cricket/sunil-gavaskar-felicitated-on-50th-anniversary-of-test-debut-958854.html, https://timesofindia.indiatimes.com/sports/cricket/england-in-india/sunil-gavaskar-felicitated-by-bcci-on-50th-anniversary-of-test-debut/articleshow/81362569.cms, https://www.sportskeeda.com/cricket/sunil-gavaskar-felicitated-by-bcci-50th-anniversary-test-debut, https://m.economictimes.com/news/sports/former-india-captain-sunil-gavaskar-felicitated-by-bcci-on-50th-anniversary-of-test-debut/articleshow/81362570.cms, https://sports.ndtv.com/cricket/sunil-gavaskar-felicitated-by-bcci-on-50th-anniversary-of-test-debut-watch-2384926, https://www.indiatvnews.com/sports/cricket/sunil-gavaskar-felicitated-by-bcci-on-50th-anniversary-of-test-debut-689160, https://cricketaddictor.com/cricket-news/bcci-felicitates-sunil-gavaskar-on-his-50th-anniversary-of-test-debut/]  [0.95, 0.95, 0.95, 0.88, 0.86, 0.76, 0.88, 0.81]  \n",
              "2                                                                                                                                                                                                           [https://www.olympicchannel.com/en/stories/news/detail/badminton-carolina-marin-eases-past-pv-sindhu-swiss-open-final/, https://www.thehindu.com/sport/other-sports/pv-sindhu-becomes-first-indian-shuttler-to-win-world-championships-gold/article29253013.ece, https://www.espn.com/badminton/story/_/id/27459172/sindhu-completes-worlds-set, https://www.espn.com/badminton/story/_/id/31015323/pv-sindhu-gets-feisty-blichfeldt-make-swiss-open-final, https://www.thequint.com/sports/badminton/live-updates-sindhu-vs-marin-final-badminton-world-championships, https://www.timesnownews.com/sports/badminton/article/pv-sindhu-vs-carolina-marin-final-bwf-world-championships-2018-live-badminton-score-updates-sindhu-seeks-elusive-gold-nanjing-china/264675, https://www.deccanchronicle.com/content/tags/carolina-marin]         [0.68, 0.44, 0.37, 0.47, 0.7, 0.72, 0.37]  "
            ]
          },
          "metadata": {
            "tags": []
          },
          "execution_count": 38
        }
      ]
    },
    {
      "cell_type": "code",
      "metadata": {
        "id": "8cEloPr2v2EI"
      },
      "source": [
        "'''\n",
        "save the news-data datafame in to pickle file \n",
        "'''\n",
        "article_details_df.to_pickle('/content/gdrive/My Drive/capstone_project/news_url_with_headline/News_atricle_details/news_article_with_sim_score.df')\n"
      ],
      "execution_count": null,
      "outputs": []
    },
    {
      "cell_type": "code",
      "metadata": {
        "colab": {
          "base_uri": "https://localhost:8080/",
          "height": 1000
        },
        "id": "de7FXSv6y78q",
        "outputId": "a2858792-97a5-4406-c4ff-d7b87a7a91b6"
      },
      "source": [
        "'''\n",
        "load the news dataset pickle file and show one sample record\n",
        "'''\n",
        "article_details_df=pd.read_pickle('/content/gdrive/My Drive/capstone_project/news_url_with_headline/News_atricle_details/news_article_with_sim_score.df')\n",
        "article_details_df.head(3)"
      ],
      "execution_count": null,
      "outputs": [
        {
          "output_type": "execute_result",
          "data": {
            "text/html": [
              "<div>\n",
              "<style scoped>\n",
              "    .dataframe tbody tr th:only-of-type {\n",
              "        vertical-align: middle;\n",
              "    }\n",
              "\n",
              "    .dataframe tbody tr th {\n",
              "        vertical-align: top;\n",
              "    }\n",
              "\n",
              "    .dataframe thead th {\n",
              "        text-align: right;\n",
              "    }\n",
              "</style>\n",
              "<table border=\"1\" class=\"dataframe\">\n",
              "  <thead>\n",
              "    <tr style=\"text-align: right;\">\n",
              "      <th></th>\n",
              "      <th>article_url</th>\n",
              "      <th>headline</th>\n",
              "      <th>content</th>\n",
              "      <th>author</th>\n",
              "      <th>published_date</th>\n",
              "      <th>read_more_source</th>\n",
              "      <th>similar_headline</th>\n",
              "      <th>similar_headline_url</th>\n",
              "      <th>similarity_scores</th>\n",
              "    </tr>\n",
              "  </thead>\n",
              "  <tbody>\n",
              "    <tr>\n",
              "      <th>0</th>\n",
              "      <td>https://inshorts.com/en/news/you-shall-always-have-my-support-arjun-kapoor-on-janhvis-bday-1615047490059</td>\n",
              "      <td>You shall always have my support: Arjun Kapoor on Janhvi's b'day</td>\n",
              "      <td>Taking to Instagram on Saturday, Arjun Kapoor posted a picture of himself with Janhvi Kapoor to wish the actress on her 24th birthday. In the picture, Arjun can be seen walking ahead while holding his sister's hand. \"Happy birthday Janhvi...I can't promise much except like this picture you shall always have my support &amp; hand wherever you go,\" Arjun wrote.</td>\n",
              "      <td>None</td>\n",
              "      <td>2021-03-06T16:18:10.000Z</td>\n",
              "      <td>PINKVILLA</td>\n",
              "      <td>[On Janhvi Kapoor’s birthday, Arjun promises to be a constant support: You shall have my hand wherever you go, \"You will always have my support,\" Arjun Kapoor writes a heartfelt birthday note for Janhvi Kapoor., 'You shall always have my support': Arjun Kapoor pens heart-warming birthday note for Janhvi, Janhvi Kapoor rings in 24th birthday with her crew, sister Anshula plans huge surprise]</td>\n",
              "      <td>[https://www.pinkvilla.com/entertainment/news/janhvi-kapoor-s-birthday-arjun-promises-be-constant-support-you-shall-have-my-hand-wherever-you-go-633968, https://indianewsrepublic.com/you-will-always-have-my-support-arjun-kapoor-writes-a-heartfelt-birthday-note-for-janhvi-kapoor/222825/, https://english.lokmat.com/entertainment/you-shall-always-have-my-support-arjun-kapoor-pens-heart-warming-birthday-note-for-janhvi/, https://www.republicworld.com/entertainment-news/bollywood-news/janhvi-kapoor-rings-in-24th-birthday-with-her-crew-sister-anshula-plans-huge-surprise.html]</td>\n",
              "      <td>[0.7, 0.8, 0.8, 0.41]</td>\n",
              "    </tr>\n",
              "    <tr>\n",
              "      <th>1</th>\n",
              "      <td>https://inshorts.com/en/news/gavaskar-felicitated-on-50th-anniversary-of-test-debut-1615046996400</td>\n",
              "      <td>Gavaskar felicitated on 50th anniversary of Test debut</td>\n",
              "      <td>Ex-India captain Sunil Gavaskar was felicitated by the BCCI on the 50th anniversary of his Test debut on Saturday. The 71-year-old received a commemorative Test cap from BCCI Secretary Jay Shah, while several ex-cricketers took to Twitter to congratulate Gavaskar. \"The game is as strong as it is today because they made a start then against all odds,\" Ganguly tweeted.</td>\n",
              "      <td>None</td>\n",
              "      <td>2021-03-06T16:09:56.000Z</td>\n",
              "      <td>read more source not available</td>\n",
              "      <td>[Sunil Gavaskar felicitated on 50th anniversary of Test debut, Sunil Gavaskar felicitated on 50th anniversary of Test debut, Sunil Gavaskar felicitated on 50th anniversary of Test debut, Sunil Gavaskar felicitated by BCCI on 50th anniversary of his Test debut, Former India captain Sunil Gavaskar felicitated by BCCI on 50th anniversary of Test debut, Sunil Gavaskar Felicitated By BCCI On 50th Anniversary Of Test Debut. Watch, Sunil Gavaskar felicitated by BCCI on 50th anniversary of Test debut, BCCI Felicitates Sunil Gavaskar On His 50th Anniversary Of Test Debut]</td>\n",
              "      <td>[https://www.thehindu.com/sport/cricket/sunil-gavaskar-felicitated-on-50th-anniversary-of-test-debut/article34005053.ece, https://www.deccanherald.com/sports/cricket/sunil-gavaskar-felicitated-on-50th-anniversary-of-test-debut-958854.html, https://timesofindia.indiatimes.com/sports/cricket/england-in-india/sunil-gavaskar-felicitated-by-bcci-on-50th-anniversary-of-test-debut/articleshow/81362569.cms, https://www.sportskeeda.com/cricket/sunil-gavaskar-felicitated-by-bcci-50th-anniversary-test-debut, https://m.economictimes.com/news/sports/former-india-captain-sunil-gavaskar-felicitated-by-bcci-on-50th-anniversary-of-test-debut/articleshow/81362570.cms, https://sports.ndtv.com/cricket/sunil-gavaskar-felicitated-by-bcci-on-50th-anniversary-of-test-debut-watch-2384926, https://www.indiatvnews.com/sports/cricket/sunil-gavaskar-felicitated-by-bcci-on-50th-anniversary-of-test-debut-689160, https://cricketaddictor.com/cricket-news/bcci-felicitates-sunil-gavaskar-on-his-50th-anniversary-of-test-debut/]</td>\n",
              "      <td>[0.95, 0.95, 0.95, 0.88, 0.86, 0.76, 0.88, 0.81]</td>\n",
              "    </tr>\n",
              "    <tr>\n",
              "      <th>2</th>\n",
              "      <td>https://inshorts.com/en/news/pv-sindhu-to-face-carolina-marin-in-her-1st-final-since-2019-world-cships-win-1615046535615</td>\n",
              "      <td>PV Sindhu to face Carolina Marin in her 1st final since 2019 World C'ships win</td>\n",
              "      <td>Shuttler PV Sindhu on Saturday defeated Mia Blichfeldt in straight games to enter the final of the Swiss Open, where she'll face Carolina Marin. Notably, this is Sindhu's first final appearance since winning the BWF World Championships in August 2019. In the men's singles, Kidambi Srikanth suffered defeat in the semifinal against world number two Viktor Axelsen of Denmark.</td>\n",
              "      <td>None</td>\n",
              "      <td>2021-03-06T16:02:15.000Z</td>\n",
              "      <td>read more source not available</td>\n",
              "      <td>[Carolina Marin overpowers PV Sindhu in Swiss Open final, Sindhu becomes first Indian shuttler to win World C’ships gold, bear Okuhara in final, 21 wins, 2 silvers, 2 bronzes, 1 gold: Sindhu completes the Worlds set, PV Sindhu gets past feisty Blichfeldt to make Swiss Open final, Badminton World C’ships: Carolina Marin Beats PV Sindhu in Final, PV Sindhu vs Carolina Marin final, BWF World C'ships 2018, highlights: Marin outwits Sindhu, Carolina Marin]</td>\n",
              "      <td>[https://www.olympicchannel.com/en/stories/news/detail/badminton-carolina-marin-eases-past-pv-sindhu-swiss-open-final/, https://www.thehindu.com/sport/other-sports/pv-sindhu-becomes-first-indian-shuttler-to-win-world-championships-gold/article29253013.ece, https://www.espn.com/badminton/story/_/id/27459172/sindhu-completes-worlds-set, https://www.espn.com/badminton/story/_/id/31015323/pv-sindhu-gets-feisty-blichfeldt-make-swiss-open-final, https://www.thequint.com/sports/badminton/live-updates-sindhu-vs-marin-final-badminton-world-championships, https://www.timesnownews.com/sports/badminton/article/pv-sindhu-vs-carolina-marin-final-bwf-world-championships-2018-live-badminton-score-updates-sindhu-seeks-elusive-gold-nanjing-china/264675, https://www.deccanchronicle.com/content/tags/carolina-marin]</td>\n",
              "      <td>[0.68, 0.44, 0.37, 0.47, 0.7, 0.72, 0.37]</td>\n",
              "    </tr>\n",
              "  </tbody>\n",
              "</table>\n",
              "</div>"
            ],
            "text/plain": [
              "                                                                                                                article_url                                                                        headline                                                                                                                                                                                                                                                                                                                                                                                  content author            published_date                read_more_source                                                                                                                                                                                                                                                                                                                                                                                                                                                                                                                                                                           similar_headline  \\\n",
              "0                  https://inshorts.com/en/news/you-shall-always-have-my-support-arjun-kapoor-on-janhvis-bday-1615047490059                You shall always have my support: Arjun Kapoor on Janhvi's b'day                    Taking to Instagram on Saturday, Arjun Kapoor posted a picture of himself with Janhvi Kapoor to wish the actress on her 24th birthday. In the picture, Arjun can be seen walking ahead while holding his sister's hand. \"Happy birthday Janhvi...I can't promise much except like this picture you shall always have my support & hand wherever you go,\" Arjun wrote.   None  2021-03-06T16:18:10.000Z                       PINKVILLA                                                                                                                                                                                  [On Janhvi Kapoor’s birthday, Arjun promises to be a constant support: You shall have my hand wherever you go, \"You will always have my support,\" Arjun Kapoor writes a heartfelt birthday note for Janhvi Kapoor., 'You shall always have my support': Arjun Kapoor pens heart-warming birthday note for Janhvi, Janhvi Kapoor rings in 24th birthday with her crew, sister Anshula plans huge surprise]   \n",
              "1                         https://inshorts.com/en/news/gavaskar-felicitated-on-50th-anniversary-of-test-debut-1615046996400                          Gavaskar felicitated on 50th anniversary of Test debut        Ex-India captain Sunil Gavaskar was felicitated by the BCCI on the 50th anniversary of his Test debut on Saturday. The 71-year-old received a commemorative Test cap from BCCI Secretary Jay Shah, while several ex-cricketers took to Twitter to congratulate Gavaskar. \"The game is as strong as it is today because they made a start then against all odds,\" Ganguly tweeted.   None  2021-03-06T16:09:56.000Z  read more source not available  [Sunil Gavaskar felicitated on 50th anniversary of Test debut, Sunil Gavaskar felicitated on 50th anniversary of Test debut, Sunil Gavaskar felicitated on 50th anniversary of Test debut, Sunil Gavaskar felicitated by BCCI on 50th anniversary of his Test debut, Former India captain Sunil Gavaskar felicitated by BCCI on 50th anniversary of Test debut, Sunil Gavaskar Felicitated By BCCI On 50th Anniversary Of Test Debut. Watch, Sunil Gavaskar felicitated by BCCI on 50th anniversary of Test debut, BCCI Felicitates Sunil Gavaskar On His 50th Anniversary Of Test Debut]   \n",
              "2  https://inshorts.com/en/news/pv-sindhu-to-face-carolina-marin-in-her-1st-final-since-2019-world-cships-win-1615046535615  PV Sindhu to face Carolina Marin in her 1st final since 2019 World C'ships win  Shuttler PV Sindhu on Saturday defeated Mia Blichfeldt in straight games to enter the final of the Swiss Open, where she'll face Carolina Marin. Notably, this is Sindhu's first final appearance since winning the BWF World Championships in August 2019. In the men's singles, Kidambi Srikanth suffered defeat in the semifinal against world number two Viktor Axelsen of Denmark.   None  2021-03-06T16:02:15.000Z  read more source not available                                                                                                                    [Carolina Marin overpowers PV Sindhu in Swiss Open final, Sindhu becomes first Indian shuttler to win World C’ships gold, bear Okuhara in final, 21 wins, 2 silvers, 2 bronzes, 1 gold: Sindhu completes the Worlds set, PV Sindhu gets past feisty Blichfeldt to make Swiss Open final, Badminton World C’ships: Carolina Marin Beats PV Sindhu in Final, PV Sindhu vs Carolina Marin final, BWF World C'ships 2018, highlights: Marin outwits Sindhu, Carolina Marin]   \n",
              "\n",
              "                                                                                                                                                                                                                                                                                                                                                                                                                                                                                                                                                                                                                                                                                                                                                                                                                                                                                                                                                                                                                              similar_headline_url                                 similarity_scores  \n",
              "0                                                                                                                                                                                                                                                                                                                                                                                                                                                 [https://www.pinkvilla.com/entertainment/news/janhvi-kapoor-s-birthday-arjun-promises-be-constant-support-you-shall-have-my-hand-wherever-you-go-633968, https://indianewsrepublic.com/you-will-always-have-my-support-arjun-kapoor-writes-a-heartfelt-birthday-note-for-janhvi-kapoor/222825/, https://english.lokmat.com/entertainment/you-shall-always-have-my-support-arjun-kapoor-pens-heart-warming-birthday-note-for-janhvi/, https://www.republicworld.com/entertainment-news/bollywood-news/janhvi-kapoor-rings-in-24th-birthday-with-her-crew-sister-anshula-plans-huge-surprise.html]                             [0.7, 0.8, 0.8, 0.41]  \n",
              "1  [https://www.thehindu.com/sport/cricket/sunil-gavaskar-felicitated-on-50th-anniversary-of-test-debut/article34005053.ece, https://www.deccanherald.com/sports/cricket/sunil-gavaskar-felicitated-on-50th-anniversary-of-test-debut-958854.html, https://timesofindia.indiatimes.com/sports/cricket/england-in-india/sunil-gavaskar-felicitated-by-bcci-on-50th-anniversary-of-test-debut/articleshow/81362569.cms, https://www.sportskeeda.com/cricket/sunil-gavaskar-felicitated-by-bcci-50th-anniversary-test-debut, https://m.economictimes.com/news/sports/former-india-captain-sunil-gavaskar-felicitated-by-bcci-on-50th-anniversary-of-test-debut/articleshow/81362570.cms, https://sports.ndtv.com/cricket/sunil-gavaskar-felicitated-by-bcci-on-50th-anniversary-of-test-debut-watch-2384926, https://www.indiatvnews.com/sports/cricket/sunil-gavaskar-felicitated-by-bcci-on-50th-anniversary-of-test-debut-689160, https://cricketaddictor.com/cricket-news/bcci-felicitates-sunil-gavaskar-on-his-50th-anniversary-of-test-debut/]  [0.95, 0.95, 0.95, 0.88, 0.86, 0.76, 0.88, 0.81]  \n",
              "2                                                                                                                                                                                                           [https://www.olympicchannel.com/en/stories/news/detail/badminton-carolina-marin-eases-past-pv-sindhu-swiss-open-final/, https://www.thehindu.com/sport/other-sports/pv-sindhu-becomes-first-indian-shuttler-to-win-world-championships-gold/article29253013.ece, https://www.espn.com/badminton/story/_/id/27459172/sindhu-completes-worlds-set, https://www.espn.com/badminton/story/_/id/31015323/pv-sindhu-gets-feisty-blichfeldt-make-swiss-open-final, https://www.thequint.com/sports/badminton/live-updates-sindhu-vs-marin-final-badminton-world-championships, https://www.timesnownews.com/sports/badminton/article/pv-sindhu-vs-carolina-marin-final-bwf-world-championships-2018-live-badminton-score-updates-sindhu-seeks-elusive-gold-nanjing-china/264675, https://www.deccanchronicle.com/content/tags/carolina-marin]         [0.68, 0.44, 0.37, 0.47, 0.7, 0.72, 0.37]  "
            ]
          },
          "metadata": {
            "tags": []
          },
          "execution_count": 41
        }
      ]
    },
    {
      "cell_type": "code",
      "metadata": {
        "id": "RDm8_YlTzRtm"
      },
      "source": [
        "'''\n",
        "save the news-data datafame in to excel file \n",
        "'''\n",
        "article_details_df.to_excel('/content/gdrive/My Drive/capstone_project/news_url_with_headline/News_atricle_details/news_article_with_sim_score.xlsx')\n"
      ],
      "execution_count": null,
      "outputs": []
    },
    {
      "cell_type": "code",
      "metadata": {
        "id": "7sVfJcXNzi3X"
      },
      "source": [
        ""
      ],
      "execution_count": null,
      "outputs": []
    }
  ]
}